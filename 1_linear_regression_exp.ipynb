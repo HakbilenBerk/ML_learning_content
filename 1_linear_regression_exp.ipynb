{
  "nbformat": 4,
  "nbformat_minor": 0,
  "metadata": {
    "colab": {
      "provenance": [],
      "toc_visible": true,
      "authorship_tag": "ABX9TyMcTYbU8vGq3nUG1L0dIHN4",
      "include_colab_link": true
    },
    "kernelspec": {
      "name": "python3",
      "display_name": "Python 3"
    },
    "language_info": {
      "name": "python"
    }
  },
  "cells": [
    {
      "cell_type": "markdown",
      "metadata": {
        "id": "view-in-github",
        "colab_type": "text"
      },
      "source": [
        "<a href=\"https://colab.research.google.com/github/HakbilenBerk/ML_learning_content/blob/main/1_linear_regression_exp.ipynb\" target=\"_parent\"><img src=\"https://colab.research.google.com/assets/colab-badge.svg\" alt=\"Open In Colab\"/></a>"
      ]
    },
    {
      "cell_type": "markdown",
      "metadata": {
        "id": "-FpCk36lUh6X"
      },
      "source": [
        "#What is Regression?"
      ]
    },
    {
      "cell_type": "markdown",
      "metadata": {
        "id": "itkeptSMUo6L"
      },
      "source": [
        "In statistical modeling, regression analysis estimates the relationship between one or more independent variables and the dependent variable which represents the outcome.\n",
        "\n",
        "To explain with an example you can imagine a list of houses, with information regarding to the size, distance to city center, garden (independent variables). Using these information, you can try to understand how the price(dependent variables) changes.\n",
        "\n",
        "So for a regression analysis we have a set of observations or samples with one or more variables/features. Then, we define a dependent variable (the outcome) and try to find a relation between the dependent variables and the independent variables. The best way to do this is by finding a function which best represent the data. \n"
      ]
    },
    {
      "cell_type": "markdown",
      "metadata": {
        "id": "fu5MegDAMXyI"
      },
      "source": [
        "# Linear Models for Regression"
      ]
    },
    {
      "cell_type": "markdown",
      "metadata": {
        "id": "sHlc0kDGMeZS"
      },
      "source": [
        "## Linear Regression"
      ]
    },
    {
      "cell_type": "markdown",
      "metadata": {
        "id": "VlitEPHURLRq"
      },
      "source": [
        "In the linear regression model, we will use regression analysis to best represent the dataset through a linear function. Then, we will use this function to predict the outcome of a new sample/observation which was not in the dataset.\n",
        "\n",
        "Linear regression is one of the most used regression models due to its simplicity and ease of understanding the results. Let's move on to the model formulations to understand this better.\n",
        "\n",
        "\n",
        "---\n",
        "\n",
        "\n",
        "The linear regression function is written assuming a linear relationship between the variables:\n",
        "\n",
        "$$y = w_1x_1 +  ... + w_nx_n + c$$\n",
        "\n",
        "where w terms are the regression coefficients, x terms are the independent variables or features, y is dependent variable/outcome and c is the constant bias term.\n",
        "\n",
        "We can write a simple linear regression function for the houses examples we mentioned above.\n",
        "\n",
        "$$y_{price} = 500X_{size} - 350X_{distance to city} + 400.000$$\n",
        "So if we plug in the features of a new house into this function, we can predict its price (let's assume size is 150m2 and distance to city center is 5 km).\n",
        "$$y_{price} = 500*150 - 350*5 + 400.000 = 75.000 - 1750 + 400.000 = 476.750$$\n",
        "\n",
        "See how the coefficient of distance to city center is minus. Meaning closer to center, more expensive the house will be.\n",
        "\n",
        "We can create a simple fake regression dataset with only one feature and plot it to see the data behaviour more clearly.\n",
        "\n",
        "\n",
        "\n"
      ]
    },
    {
      "cell_type": "code",
      "metadata": {
        "colab": {
          "base_uri": "https://localhost:8080/",
          "height": 281
        },
        "id": "DDRtgsVfMSQB",
        "outputId": "d6bb75ca-5242-452d-ba6b-c3a421ee4ff5"
      },
      "source": [
        "import matplotlib.pyplot as plt\n",
        "from sklearn.datasets import make_regression\n",
        "plt.figure()\n",
        "plt.title('Samples in a dataset with only one feature (dependent variable)')\n",
        "X, y = make_regression(n_samples = 80, n_features=1,\n",
        "                            n_informative=1, bias = 50,\n",
        "                            noise = 40, random_state=42)\n",
        "plt.scatter(X, y, marker= 'o', s=50)\n",
        "plt.show()"
      ],
      "execution_count": null,
      "outputs": [
        {
          "output_type": "display_data",
          "data": {
            "text/plain": [
              "<Figure size 432x288 with 1 Axes>"
            ],
            "image/png": "[encoded data removed]"
          },
          "metadata": {
            "needs_background": "light"
          }
        }
      ]
    },
    {
      "cell_type": "markdown",
      "metadata": {
        "id": "facSSY4wvg1k"
      },
      "source": [
        "The dataset above has only one dependent variable. In this case, the regression function would be:\n",
        "$$y = w_1x_1  + c$$\n",
        "\n",
        "where w1 would be the slope the curve and c would be the offset value."
      ]
    },
    {
      "cell_type": "markdown",
      "metadata": {
        "id": "fDaKQvxex4J3"
      },
      "source": [
        "\n",
        "When we train our model on this data, the coefficients and the bias term will be determined automatically so that the regression function best fits the dataset.\n",
        "\n",
        "The model algorithm finds the best coefficients for the dataset by optimizing an objective function, which in this case would be the **loss function.** The loss function represents the difference between the predicted outcome values and the real outcome values. "
      ]
    },
    {
      "cell_type": "markdown",
      "metadata": {
        "id": "PzMasjMZcRX0"
      },
      "source": [
        "###Least-Squared Linear Regression"
      ]
    },
    {
      "cell_type": "markdown",
      "metadata": {
        "id": "HgHnf-_Jd-8t"
      },
      "source": [
        "In the Least-Squared linear regression model the coefficients and bias are determined by minimizing the **sum of squared differences (SSR)** for all of the samples in the data. This model is also called **Ordinary Least-Squares**. \n",
        " \n",
        "$$RSS(\\textbf w,c) = \\sum\\limits_{i=1}^{n} {(\\textbf y_i - (\\textbf w.\\textbf x_i + b))^2}$$"
      ]
    },
    {
      "cell_type": "markdown",
      "metadata": {
        "id": "gdjDD0aagqKH"
      },
      "source": [
        "If we interpret the function, it is a function determined by taking the square of the difference between the predicted outcome value and the real outcome value. \n",
        "\n",
        "Let's train the Linear Regression model using the fake dataset we previously created and have a look at the calculated coefficients."
      ]
    },
    {
      "cell_type": "code",
      "metadata": {
        "colab": {
          "base_uri": "https://localhost:8080/"
        },
        "id": "_kAf-c4kXdD2",
        "outputId": "4d580b98-40e6-4f1a-80e4-a9f760a6e994"
      },
      "source": [
        "from sklearn.linear_model import LinearRegression\n",
        "from sklearn.model_selection import train_test_split\n",
        "\n",
        "X_train, X_test, y_train, y_test = train_test_split(X, y,\n",
        "                                                   random_state = 42)\n",
        "model = LinearRegression()\n",
        "model.fit(X_train, y_train)\n",
        "\n",
        "print('feature coefficient (w_1): {}'\n",
        "     .format(model.coef_))\n",
        "print('intercept (c): {:.3f}'\n",
        "     .format(model.intercept_))\n",
        "print('R-squared score (training): {:.3f}'\n",
        "     .format(model.score(X_train, y_train)))\n",
        "print('R-squared score (test): {:.3f}'\n",
        "     .format(model.score(X_test, y_test)))"
      ],
      "execution_count": null,
      "outputs": [
        {
          "output_type": "stream",
          "name": "stdout",
          "text": [
            "feature coefficient (w_1): [101.41780398]\n",
            "intercept (c): 53.342\n",
            "R-squared score (training): 0.891\n",
            "R-squared score (test): 0.735\n"
          ]
        }
      ]
    },
    {
      "cell_type": "markdown",
      "metadata": {
        "id": "vIKTaal9Dxy3"
      },
      "source": [
        "Here, R^2 is the coefficient of determination. This term represents the amount of variation in outcome(y) explained by the dependence on features (x variables). Therefore, a larger R^2 indicates a better model performance or a better fit.\n",
        "\n",
        "When R^2 is equal to one, then RSS is equals to 0. Meaning the predicted outcome values and the real outcome values are exactly the same. We will be using the R^2 term to measure the performance of our model."
      ]
    },
    {
      "cell_type": "code",
      "metadata": {
        "colab": {
          "base_uri": "https://localhost:8080/",
          "height": 350
        },
        "id": "EpvvTtR7ZWhZ",
        "outputId": "7e6378eb-6300-4342-9840-3f7af96c72a3"
      },
      "source": [
        "plt.figure(figsize=(6,5))\n",
        "plt.scatter(X, y, marker= 'o', s=50, alpha=0.7)\n",
        "plt.plot(X, model.coef_*X + model.intercept_, 'r-')\n",
        "plt.title('Least-squares linear regression model')\n",
        "plt.xlabel('Variable/feature value (x)')\n",
        "plt.ylabel('Outcome (y)')\n",
        "plt.show()"
      ],
      "execution_count": null,
      "outputs": [
        {
          "output_type": "display_data",
          "data": {
            "image/png": "[encoded data removed]",
            "text/plain": [
              "<Figure size 432x360 with 1 Axes>"
            ]
          },
          "metadata": {
            "needs_background": "light"
          }
        }
      ]
    },
    {
      "cell_type": "markdown",
      "metadata": {
        "id": "7ZSI338N3uto"
      },
      "source": [
        "### Ridge Regression - L2 Regularization"
      ]
    },
    {
      "cell_type": "markdown",
      "metadata": {
        "id": "IVXbVp4A33pu"
      },
      "source": [
        "Ridge regression model calculates coefficients and the bias (w and c) using the same criteria in Least-Squared however with an extra term.\n",
        "\n",
        "$$RSS(\\textbf w,c) = \\sum\\limits_{i=1}^{n} {(\\textbf y_i - (\\textbf w.\\textbf x_i + b))^2} + \\boxed {\\alpha\\sum\\limits_{j=1}^{m} {w_j^2}}$$\n",
        "\n",
        "This term is a penalty to adjust the large variations in the coefficients. The linear prediction formula is still the same but only the way coefficients are calculated differs due to this extra penalty term. This is called **regularization**. It serves to prevent overfitting by restricting the variation of the coefficients which results in a less complex or simpler model.\n",
        "\n",
        "This extra term is basically the sum of squares of the coefficients. Therefore, when we try to minimize the RSS function, we also minimize the the sum of squares of the coefficients which is called **L2 regularization**. Moreover, the alpha constant serves to control the influence of this regularization. This way, in comparison to the Least-Squared model, we can actually control the complexity of our model with the help of alpha term. The higher alpha term, higher the regularization is, and simpler the model will be.\n",
        "\n",
        "The accuracy improvement with datasets including one dependent variable (feature) is not significant. However, for datasets with multiple features, regularization can be very effective to reduce model complexity, therefore overfitting and increase model performance on test set.\n",
        "\n",
        "Let's have a look at its implementation in python.\n",
        "\n"
      ]
    },
    {
      "cell_type": "code",
      "metadata": {
        "colab": {
          "base_uri": "https://localhost:8080/"
        },
        "id": "cxXntWONKgy-",
        "outputId": "6e2aa6be-3677-4c67-e949-8ed4556ab9d4"
      },
      "source": [
        "from sklearn import datasets\n",
        "X,y = datasets.load_diabetes(return_X_y=True)\n",
        "X_train, X_test, y_train, y_test = train_test_split(X, y,random_state = 42)\n",
        "from sklearn.linear_model import Ridge\n",
        "model = Ridge()\n",
        "model.fit(X_train, y_train)\n",
        "\n",
        "print('feature coefficients: {}'\n",
        "     .format(model.coef_))\n",
        "print('intercept (c): {:.3f}'\n",
        "     .format(model.intercept_))"
      ],
      "execution_count": null,
      "outputs": [
        {
          "output_type": "stream",
          "name": "stdout",
          "text": [
            "feature coefficients: [  50.55155508  -67.72236516  278.3007281   197.62401363   -6.2459735\n",
            "  -26.22698465 -151.39451804  120.32319558  215.85469359  101.75554294]\n",
            "intercept (c): 152.514\n"
          ]
        }
      ]
    },
    {
      "cell_type": "code",
      "metadata": {
        "colab": {
          "base_uri": "https://localhost:8080/",
          "height": 321
        },
        "id": "KQv0wNbHP-yY",
        "outputId": "913fea84-3a13-4c61-a42f-51c093a5c893"
      },
      "source": [
        "plt.figure(figsize=(10,5))\n",
        "alphas = [1,5,10,20,50,100,500]\n",
        "features = ['w_'+str(i+1) for i,_ in enumerate(model.coef_)]\n",
        "for alpha in alphas:\n",
        "  model = Ridge(alpha=alpha).fit(X_train,y_train)\n",
        "  plt.scatter(features,model.coef_, alpha=0.7,label=('alpha='+str(alpha)))\n",
        "\n",
        "plt.axhline(0)\n",
        "plt.xticks(features)\n",
        "plt.legend(loc='upper left')\n",
        "plt.show()"
      ],
      "execution_count": null,
      "outputs": [
        {
          "output_type": "display_data",
          "data": {
            "image/png": "[encoded data removed]",
            "text/plain": [
              "<Figure size 720x360 with 1 Axes>"
            ]
          },
          "metadata": {
            "needs_background": "light"
          }
        }
      ]
    },
    {
      "cell_type": "markdown",
      "metadata": {
        "id": "jSjJgsK7Xk8o"
      },
      "source": [
        "Normalization can be applied unfairly to the features when they have different scales (when one feature has values around 0-1 and the other has from 100-1000). This can cause inaccuracies in our model when we apply regularization. In this case, feature scaling comes to our help to normalize all the values in the dataset, so that we can get rid of the scale differences. We will look in to feature scaling in another section..."
      ]
    },
    {
      "cell_type": "markdown",
      "metadata": {
        "id": "rVMALf6Wf75q"
      },
      "source": [
        "### Lasso Regression - L1 Regularization"
      ]
    },
    {
      "cell_type": "markdown",
      "metadata": {
        "id": "N2gwkVhbgBCQ"
      },
      "source": [
        "Lasso regression is also a regularized linear regression model. In comparison to Ridge regression, it uses L1 regularization as the penalty term while calculating the coefficients.\n",
        "\n",
        "Let's have a look at how the RSS function looks like with the penalty term for L1 regularization. \n",
        "\n",
        "\n",
        "$$RSS(\\textbf w,c) = \\sum\\limits_{i=1}^{n} {(\\textbf y_i - (\\textbf w.\\textbf x_i + b))^2} + \\boxed {\\alpha\\sum\\limits_{j=1}^{m} {|w_j|}}$$\n",
        "\n",
        "The penalty term for L1 regularization is the sum of absolute values of the coefficients. Therefore, when the algorithm tries to minimize RSS, it enforces the regularization by minimizing the sum of absolute values of the coefficients.\n",
        "\n",
        "This results in coefficients of the least effective paramaters to be 0 which is kind of like feature selection. Therefore, it is most effectively used for datasets where there a few features with a more dominant effect compared to others. This results in eliminating features which have a small effect by setting their coefficients to 0.\n",
        "\n",
        "Alpha term is again used to control the amount of regularization. "
      ]
    },
    {
      "cell_type": "code",
      "metadata": {
        "colab": {
          "base_uri": "https://localhost:8080/"
        },
        "id": "N7TW8-x3J1-v",
        "outputId": "b5e3c843-9abb-49ae-e5a8-7e1dd5811c16"
      },
      "source": [
        "from sklearn.linear_model import Lasso\n",
        "model = Lasso()\n",
        "model.fit(X_train, y_train)\n",
        "\n",
        "print('feature coefficients: {}'\n",
        "     .format(model.coef_))\n",
        "print('intercept (c): {:.3f}'\n",
        "     .format(model.intercept_))"
      ],
      "execution_count": null,
      "outputs": [
        {
          "output_type": "stream",
          "name": "stdout",
          "text": [
            "feature coefficients: [  0.          -0.         398.38436775  46.17884277   0.\n",
            "   0.          -0.           0.         238.18740159   0.        ]\n",
            "intercept (c): 152.944\n"
          ]
        }
      ]
    },
    {
      "cell_type": "markdown",
      "metadata": {
        "id": "wRmYB284gTyV"
      },
      "source": [
        "After finding the coefficients of the dominant features, we can go ahead and list their labels."
      ]
    },
    {
      "cell_type": "code",
      "metadata": {
        "colab": {
          "base_uri": "https://localhost:8080/"
        },
        "id": "EQUws9mBb17H",
        "outputId": "1409b45b-5cc0-40d0-8cfc-213b7f5109b4"
      },
      "source": [
        "import numpy as np\n",
        "data = datasets.load_diabetes()\n",
        "np.take(data.feature_names,np.nonzero(model.coef_))"
      ],
      "execution_count": null,
      "outputs": [
        {
          "output_type": "execute_result",
          "data": {
            "text/plain": [
              "array([['bmi', 'bp', 's5']], dtype='<U3')"
            ]
          },
          "metadata": {},
          "execution_count": 7
        }
      ]
    },
    {
      "cell_type": "code",
      "metadata": {
        "colab": {
          "base_uri": "https://localhost:8080/"
        },
        "id": "7-n41b9fOWBA",
        "outputId": "5444b06b-28ed-451a-b9a3-c50b397fc10f"
      },
      "source": [
        "alphas = [0.1,0.5,1,2,5,10]\n",
        "for alpha in alphas:\n",
        "  model = Lasso(alpha=alpha).fit(X_train,y_train)\n",
        "  print('feature coefficients for alpha={}: \\n{}'.format(alpha,model.coef_))\n",
        "  print('R-squared score (training): {:.3f}'\n",
        "     .format(model.score(X_train, y_train)))\n",
        "  print('R-squared score (test): {:.3f}\\n'\n",
        "     .format(model.score(X_test, y_test)))"
      ],
      "execution_count": null,
      "outputs": [
        {
          "output_type": "stream",
          "name": "stdout",
          "text": [
            "feature coefficients for alpha=0.1: \n",
            "[   0.         -151.41550421  540.85933829  337.22472854  -85.19030645\n",
            "   -0.         -262.90345036    0.          418.24822392    9.92430726]\n",
            "R-squared score (training): 0.508\n",
            "R-squared score (test): 0.502\n",
            "\n",
            "feature coefficients for alpha=0.5: \n",
            "[   0.           -0.          492.28522027  187.79307581   -0.\n",
            "   -0.         -107.63391392    0.          322.2269439     0.        ]\n",
            "R-squared score (training): 0.451\n",
            "R-squared score (test): 0.477\n",
            "\n",
            "feature coefficients for alpha=1: \n",
            "[  0.          -0.         398.38436775  46.17884277   0.\n",
            "   0.          -0.           0.         238.18740159   0.        ]\n",
            "R-squared score (training): 0.347\n",
            "R-squared score (test): 0.379\n",
            "\n",
            "feature coefficients for alpha=2: \n",
            "[ 0.          0.         75.24915126  0.          0.          0.\n",
            " -0.          0.          0.          0.        ]\n",
            "R-squared score (training): 0.052\n",
            "R-squared score (test): 0.041\n",
            "\n",
            "feature coefficients for alpha=5: \n",
            "[ 0.  0.  0.  0.  0.  0. -0.  0.  0.  0.]\n",
            "R-squared score (training): 0.000\n",
            "R-squared score (test): -0.014\n",
            "\n",
            "feature coefficients for alpha=10: \n",
            "[ 0.  0.  0.  0.  0.  0. -0.  0.  0.  0.]\n",
            "R-squared score (training): 0.000\n",
            "R-squared score (test): -0.014\n",
            "\n"
          ]
        }
      ]
    },
    {
      "cell_type": "markdown",
      "metadata": {
        "id": "fwRBtT0IZ3xk"
      },
      "source": [
        "#### Ridge or Lasso?"
      ]
    },
    {
      "cell_type": "markdown",
      "metadata": {
        "id": "1cEM5YfTZ8np"
      },
      "source": [
        "To sum up, it makes sense to use the Ridge regression model there are many small to medium effective features. If there are only a few dominantly effective features, use the Lasso regression model."
      ]
    },
    {
      "cell_type": "markdown",
      "metadata": {
        "id": "yY3cIsTy7CMc"
      },
      "source": [
        "### Polynomial Regression"
      ]
    },
    {
      "cell_type": "markdown",
      "metadata": {
        "id": "bRJ-DY077GCe"
      },
      "source": [
        "Linear regression performs well on the assumption that the relationship between the independent variables (features) and the dependent variable(outcome) is linear. If the distrubtion of the data is more complex and does not show a linear behaviour, can we still use linear models to represent such datasets? This is where polynomial regression comes in very useful.\n",
        "\n",
        "To capture this complex behaviour, we can add higher order terms to represent the features in the data. Transforming the linear model with one feature:\n",
        "\n",
        "$$y = w_1x  + c \\rightarrow \\boxed{y=w_1x + w_2x^2 + c} $$\n",
        "\n",
        "Since the coefficients are related to features linearly, this is still a liner model. However, it contains quadratic terms and the curve fitted is a polynomial curve.\n",
        "\n",
        "Let's continue with an example for Polynomial regression. To convert the features to higher order terms, we can use the PolynomialFeatures class from scikit-learn. Then we can use the Linear regression model from before to train the model.\n",
        "\n",
        "But before, let us create a dataset which could be a good fit for a 2nd degree function. For that we will use numpy to create random X points and plug them into a representative function."
      ]
    },
    {
      "cell_type": "code",
      "metadata": {
        "colab": {
          "base_uri": "https://localhost:8080/",
          "height": 265
        },
        "id": "1lQ_KLX5QR4p",
        "outputId": "c9b32364-dc90-4952-d1c9-1283ee22135a"
      },
      "source": [
        "np.random.seed(0)\n",
        "X = 2 - 3 * np.random.normal(0, 1, 100)\n",
        "y = X - 2 * (X ** 2)  + np.random.normal(-3, 3, 100)\n",
        "\n",
        "plt.scatter(X, y, s=10)\n",
        "plt.show()"
      ],
      "execution_count": null,
      "outputs": [
        {
          "output_type": "display_data",
          "data": {
            "image/png": "[encoded data removed]",
            "text/plain": [
              "<Figure size 432x288 with 1 Axes>"
            ]
          },
          "metadata": {
            "needs_background": "light"
          }
        }
      ]
    },
    {
      "cell_type": "markdown",
      "metadata": {
        "id": "UNixp5qsWbrz"
      },
      "source": [
        "We can reshape the arrays we created so that we can feed them in to the model. First, we will train a LinearRegression model to see how it fits to this data."
      ]
    },
    {
      "cell_type": "code",
      "metadata": {
        "colab": {
          "base_uri": "https://localhost:8080/",
          "height": 320
        },
        "id": "Ywn_vLsJQ8Wj",
        "outputId": "1fb6c58c-816a-4066-e2c2-23c4db93c9e8"
      },
      "source": [
        "X = X[:, np.newaxis]\n",
        "y = y[:, np.newaxis]\n",
        "\n",
        "model = LinearRegression()\n",
        "model.fit(X,y)\n",
        "print('feature coefficients: \\n{}'.format(model.coef_))\n",
        "print('R-squared score (training): {:.3f}'\n",
        "    .format(model.score(X, y)))\n",
        "\n",
        "plt.plot(X, model.coef_*X + model.intercept_, 'r-')\n",
        "plt.scatter(X,y, s=10)\n",
        "plt.show()"
      ],
      "execution_count": null,
      "outputs": [
        {
          "output_type": "stream",
          "name": "stdout",
          "text": [
            "feature coefficients: \n",
            "[[-6.36572661]]\n",
            "R-squared score (training): 0.397\n"
          ]
        },
        {
          "output_type": "display_data",
          "data": {
            "image/png": "[encoded data removed]",
            "text/plain": [
              "<Figure size 432x288 with 1 Axes>"
            ]
          },
          "metadata": {
            "needs_background": "light"
          }
        }
      ]
    },
    {
      "cell_type": "markdown",
      "metadata": {
        "id": "D7QvzlKMWqe2"
      },
      "source": [
        "As expected, Linear Regression model does not provide a very good fit with the normal features for a dataset of this behaviour. Now, we can create 2nd order Polynomial features using the PolynomialFeatures class from sk-learn library. Then, use these new 2nd order features to train the same linear regression model."
      ]
    },
    {
      "cell_type": "code",
      "metadata": {
        "id": "v_Gwv7DbTweE",
        "colab": {
          "base_uri": "https://localhost:8080/",
          "height": 317
        },
        "outputId": "54a985ba-8eda-474e-b141-913390f8366e"
      },
      "source": [
        "from sklearn.preprocessing import PolynomialFeatures\n",
        "\n",
        "poly_features= PolynomialFeatures(degree=2)\n",
        "X_poly = poly_features.fit_transform(X)\n",
        "\n",
        "model = LinearRegression()\n",
        "model.fit(X_poly,y)\n",
        "print('feature coefficients: \\n{}'.format(model.coef_))\n",
        "print('R-squared score (training): {:.3f}'\n",
        "    .format(model.score(X_poly, y)))\n",
        "plt.scatter(X,model.predict(X_poly),s=10,label=\"polynomial prediction\")\n",
        "plt.scatter(X,y,s=10,label=\"real data\")\n",
        "plt.legend(loc='lower left')\n",
        "plt.show()\n",
        "\n"
      ],
      "execution_count": null,
      "outputs": [
        {
          "output_type": "stream",
          "name": "stdout",
          "text": [
            "feature coefficients: \n",
            "[[ 0.          0.96597113 -2.02225052]]\n",
            "R-squared score (training): 0.990\n"
          ]
        },
        {
          "output_type": "display_data",
          "data": {
            "image/png": "[encoded data removed]",
            "text/plain": [
              "<Figure size 432x288 with 1 Axes>"
            ]
          },
          "metadata": {
            "needs_background": "light"
          }
        }
      ]
    },
    {
      "cell_type": "markdown",
      "metadata": {
        "id": "jNHyTjs6XKAP"
      },
      "source": [
        "This time, we were able to obtain a very good fit using the same linear regression model but with 2nd order features obtained from the PolynomialFeatures class. This is a perfect example to show how Polynomial Linear Regression can be used to obtain better fits with data which do not have a linear relationship between the features and the outcome value."
      ]
    }
  ]
}